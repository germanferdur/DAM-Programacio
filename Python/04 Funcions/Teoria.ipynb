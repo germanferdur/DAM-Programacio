{
 "cells": [
  {
   "cell_type": "markdown",
   "metadata": {},
   "source": [
    "<div style=\"display: flex; width: 100%;\">\n",
    "    <div style=\"flex: 1; padding: 0px;\">\n",
    "        <p>© Albert Palacios Jiménez, 2023</p>\n",
    "    </div>\n",
    "    <div style=\"flex: 1; padding: 0px; text-align: right;\">\n",
    "        <img src=\"../assets/ieti.png\" height=\"32\" alt=\"Logo de IETI\" style=\"max-height: 32px;\">\n",
    "    </div>\n",
    "</div>\n",
    "<hr/>"
   ]
  },
  {
   "cell_type": "markdown",
   "metadata": {},
   "source": [
    "# Funcions\n",
    "\n",
    "<center><img src=\"../assets/04a_00.png\" height=\"200\" style=\"max-height: 300px;\" /></center>\n",
    "\n",
    "Les funcions ajuden a agrupar el codi per resoldre un problema específic.\n",
    "\n",
    "Pots pensar en les funcions, com mini programes dins del programa principal.\n",
    "\n",
    "Així tenim vàries avantatges:\n",
    "\n",
    "* Tenim el codi més organitzat\n",
    "\n",
    "* Reutilitzem el codi, no cal programar diverses vegades un mateix càlcul\n",
    "\n",
    "* Simplifica el manteniment del codi i fa que sigui més fàcil de llegir"
   ]
  },
  {
   "cell_type": "markdown",
   "metadata": {},
   "source": [
    "## Nom de les funcions\n",
    "\n",
    "Al igual que amb les variables, a les funcions també els hi posem un nom per poder distingir-les.\n",
    "\n",
    "Un cop decidit el nom de les funcions, hem d'escriure el codi d'aquesta funció.\n",
    "\n",
    "Per cridar (fer servir) la funció, només cal escriure el seu nom i parèntesis.\n",
    "\n",
    "nom_funcio()"
   ]
  },
  {
   "cell_type": "code",
   "execution_count": 2,
   "metadata": {},
   "outputs": [
    {
     "name": "stdout",
     "output_type": "stream",
     "text": [
      "Hola, això és un programa Python\n",
      "Hola, això és un programa Python\n"
     ]
    }
   ],
   "source": [
    "# Definir la funció anomenada \"saludar\"\n",
    "def saludar():\n",
    "    print(\"Hola, això és un programa Python\")\n",
    "\n",
    "# Definir la funció anomenada \"acomiadar\"\n",
    "def acomiadar():\n",
    "    print(\"Adeu, moltes gràcies per executar-me\")\n",
    "\n",
    "# Fer servir la funció\n",
    "saludar()\n",
    "saludar()"
   ]
  },
  {
   "cell_type": "markdown",
   "metadata": {},
   "source": [
    "**Nota**\n",
    "Mira com s'executa el programa anterior, al simulador\n",
    "\n",
    "[Simulador](https://pythontutor.com/render.html)"
   ]
  },
  {
   "cell_type": "markdown",
   "metadata": {},
   "source": [
    "## Important!\n",
    "\n",
    "A Python el codi de les funcions s'ha de identar amb un \"tabulador\", això vol dir deixar un tabulador fins a cada instrucció:\n",
    "```python\n",
    "def nom_funció():\n",
    "    instrucció1\n",
    "    instrucció2\n",
    "```\n",
    "Les funcions poden tenir múltiples línies\n",
    "\n",
    "El codi de les funcions no s'executa fins que no es crida a aquella funció.\n",
    "\n",
    "**Exemple**: En el programa anterior la funció 'acomiadar' no s'executa perquè no s'ha cridat mai aquella funció."
   ]
  },
  {
   "cell_type": "markdown",
   "metadata": {},
   "source": [
    "## Exercici 0\n",
    "\n",
    "Modifica el programa d'exemple anterior, perquè primer saludi i després s'acomiadi.\n",
    "\n",
    "El resultat ha de ser així:\n",
    "\n",
    "\n",
    "Hola, això és un programa Python\n",
    "\n",
    "Adeu, moltes gràcies per executar-me"
   ]
  },
  {
   "cell_type": "code",
   "execution_count": null,
   "metadata": {},
   "outputs": [],
   "source": [
    "def saludar()\n",
    "    print (\"Hola, això és un programa Python\")\n",
    "\n",
    "def acomiadar()\n",
    "    print (\"Adeu, moltes gràcies per exxecutar-me\")\n",
    "\n",
    "saludar()\n",
    "acomiadar()"
   ]
  },
  {
   "cell_type": "markdown",
   "metadata": {},
   "source": [
    "### Àmbit de les variables locals\n",
    "\n",
    "Les variables que es defineixen dins de les funcions, no existeixen fora d'aquestes.\n",
    "\n",
    "Aquestes variables, s'anomenen **'locals'**"
   ]
  },
  {
   "cell_type": "code",
   "execution_count": 3,
   "metadata": {},
   "outputs": [
    {
     "name": "stdout",
     "output_type": "stream",
     "text": [
      "Valor de a dins de la funció: 10\n",
      "Valor de 'a' fora de la funció: 20\n"
     ]
    }
   ],
   "source": [
    "# Exemple d'àmbit de les variables en una funció\n",
    "def funcio():\n",
    "    a = 10\n",
    "    print(f\"Valor de a dins de la funció: {a}\")\n",
    "\n",
    "a = 20\n",
    "funcio()\n",
    "print(f\"Valor de 'a' fora de la funció: {a}\")"
   ]
  },
  {
   "cell_type": "markdown",
   "metadata": {},
   "source": [
    "### Àmbit de les variables globals\n",
    "\n",
    "Les variables **globals** estàn definides fora de totes les funcions.\n",
    "\n",
    "Python permet fer servir variables globals amb el modificador 'global'\n",
    "\n",
    "**Important!** El modificador 'global' només s'ha de posar si es vol modificar el contingut d'una variable global des de dins d'una funció, quan només es fa lectura de la variable global, no cal fer-lo servir\n",
    "\n",
    "**Nota!** Les variables globals poden fer el codi difícil de mantenir, i sobretot, complicar com trobar errors de codi."
   ]
  },
  {
   "cell_type": "code",
   "execution_count": 4,
   "metadata": {},
   "outputs": [
    {
     "name": "stdout",
     "output_type": "stream",
     "text": [
      "Valor de 'a' fora de la funció: 10\n",
      "- Valor de a dins de la funció amb global: 20\n",
      "Valor de 'a' fora de la funció: 20\n",
      "- Valor de a dins de la funció sense global: 30\n",
      "Valor de 'a' fora de la funció: 20\n"
     ]
    }
   ],
   "source": [
    "# Exemple de variables globals\n",
    "def funcioAmbGlobal():\n",
    "    global a # Global indica que modifica la variable definida fora de la funció\n",
    "    a = 20\n",
    "    print(f\"- Valor de a dins de la funció amb global: {a}\")\n",
    "\n",
    "def funcioSenseGlobal():\n",
    "    a = 30 # Aquesta variable és local a la funció\n",
    "    print(f\"- Valor de a dins de la funció sense global: {a}\")\n",
    "\n",
    "a = 10\n",
    "print(f\"Valor de 'a' fora de la funció: {a}\")\n",
    "funcioAmbGlobal()\n",
    "print(f\"Valor de 'a' fora de la funció: {a}\")\n",
    "funcioSenseGlobal()\n",
    "print(f\"Valor de 'a' fora de la funció: {a}\")"
   ]
  },
  {
   "cell_type": "markdown",
   "metadata": {},
   "source": [
    "## Paràmetres de les funcions\n",
    "\n",
    "Per evitar fer servir variables globals dins de les funcions, els hi podem passar paràmetres.\n",
    "\n",
    "Els paràmetres, permeten pasar informació a les funcions.\n",
    "\n",
    "Els paràmetres només existeixen dins de la funció.\n",
    "\n",
    "Els paràmetres es definexien dins dels parèntesis de la funció, separats per comes.\n",
    "```python\n",
    "        nom_funcio(parametre1, parametre2, parametre3)\n",
    "```\n",
    "Per cridar una funció amb paràmetres, cal passar-li els valors dins dels parèntesis.\n",
    "```python\n",
    "        nom_funcio(valor1, valor2, valor3)\n",
    "```\n",
    "El primer valor correspon al primer paràmetre, el segon ..."
   ]
  },
  {
   "cell_type": "code",
   "execution_count": 5,
   "metadata": {},
   "outputs": [
    {
     "name": "stdout",
     "output_type": "stream",
     "text": [
      "Hola, Bob Squarepants\n",
      "      t'han dibuixat de color groc\n",
      "Hola, Patrick Star\n",
      "      t'han dibuixat de color rosa\n",
      "Hola, Squidward Tentacles\n",
      "      t'han dibuixat de color blau\n"
     ]
    }
   ],
   "source": [
    "# Exemple de funció amb paràmetres\n",
    "def salut_personalitzat(nom, cognom, color):\n",
    "    print(f'Hola, {nom} {cognom}')\n",
    "    print(f\"      t'han dibuixat de color {color}\")\n",
    "\n",
    "salut_personalitzat('Bob', 'Squarepants', 'groc')\n",
    "salut_personalitzat('Patrick', 'Star', 'rosa')\n",
    "salut_personalitzat('Squidward', 'Tentacles', 'blau')"
   ]
  },
  {
   "cell_type": "markdown",
   "metadata": {},
   "source": [
    "**Nota**\n",
    "Mira com s'executa el programa anterior, al simulador\n",
    "\n",
    "[Simulador](https://pythontutor.com/render.html)"
   ]
  },
  {
   "cell_type": "markdown",
   "metadata": {},
   "source": [
    "## Exercici 1\n",
    "\n",
    "Fes un programa python amb la funció 'informacio_llibre'. \n",
    "\n",
    "Aquesta funció acceptarà 3 paràmetres:\n",
    "```python\n",
    "        titol, autor, any\n",
    "```\n",
    "Aleshores mostrarà la informació així:\n",
    "```python\n",
    "        Títol: El Gran Gatsby, Autor: F. Scott Fitzgerald, Any: 1925\n",
    "```\n",
    "Fes que automàticament mostri la informació de 3 llibres"
   ]
  },
  {
   "cell_type": "code",
   "execution_count": 8,
   "metadata": {},
   "outputs": [
    {
     "name": "stdout",
     "output_type": "stream",
     "text": [
      "Títol: Diario the Greg 1: Un pringao total, Autor: Jeff Kinney, Any: 2008\n",
      "Títol: El Principito, Autor: Antoine de Saint-Exupéry, Any: 2008\n",
      "Títol: El ingenioso hidalgo don Quijote de la Mancha , Autor: Miguel de Cervantes, Any: 1605\n"
     ]
    }
   ],
   "source": [
    "def mostra_inf_llibre (títol, autor, any):\n",
    "    print (f\"Títol: {títol}, Autor: {autor}, Any: {any}\")\n",
    "\n",
    "mostra_inf_llibre('Diario the Greg 1: Un pringao total', 'Jeff Kinney', '2008')\n",
    "mostra_inf_llibre('El Principito', 'Antoine de Saint-Exupéry', '2008')\n",
    "mostra_inf_llibre('El ingenioso hidalgo don Quijote de la Mancha ', 'Miguel de Cervantes', '1605')"
   ]
  },
  {
   "cell_type": "markdown",
   "metadata": {},
   "source": [
    "### Nota sobre els paràmetres de les funcions\n",
    "\n",
    "Tot i que Python permet modificar el valor dels paràmetres rebuts al cridar una funció, aquesta modificació només afecta l'àmbit local a la funció. \n",
    "\n",
    "No afecta a les variables originals amb els que s'ha cridat la funció."
   ]
  },
  {
   "cell_type": "code",
   "execution_count": 9,
   "metadata": {},
   "outputs": [
    {
     "name": "stdout",
     "output_type": "stream",
     "text": [
      "Hola, groc\n",
      "Adeu, verd\n",
      "El valor de 'color' és: groc\n"
     ]
    }
   ],
   "source": [
    "# Exemple de modificació dels paràmetres d'una funció\n",
    "def salut_personalitzat(color):\n",
    "    print(f'Hola, {color}')\n",
    "    color = 'verd'\n",
    "    print(f\"Adeu, {color}\")\n",
    "\n",
    "color = 'groc'\n",
    "salut_personalitzat(color)\n",
    "print(f\"El valor de 'color' és: {color}\")"
   ]
  },
  {
   "cell_type": "markdown",
   "metadata": {},
   "source": [
    "## Valor de retorn de les funcions\n",
    "\n",
    "A vegades, ens fa falta que les funcions retornin el valor del càlcul que han fet.\n",
    "\n",
    "Per fer-ho, cal posar la paraula 'return' seguida del valor que volem retornar.\n",
    "```python\n",
    "        return valor_a_retornar\n",
    "```\n",
    "Un cop s'executa la instrucció que té 'return' ja no s'executa cap línia més de codi d'aquella funció."
   ]
  },
  {
   "cell_type": "code",
   "execution_count": 10,
   "metadata": {},
   "outputs": [
    {
     "name": "stdout",
     "output_type": "stream",
     "text": [
      "L'area d'un rectangle amb base 3 i 4 altura és 12\n",
      "L'area d'un rectangle amb base 2 i 3 altura és 6\n"
     ]
    }
   ],
   "source": [
    "# Exemple de funció amb valor de retorn\n",
    "def calcular_area_rectangle(base, altura):\n",
    "    return base * altura\n",
    "\n",
    "base = 3\n",
    "altura = 4\n",
    "area = calcular_area_rectangle(base, altura)\n",
    "print(f\"L'area d'un rectangle amb base {base} i {altura} altura és {area}\")\n",
    "\n",
    "base = 2\n",
    "altura = 3\n",
    "area = calcular_area_rectangle(base, altura)\n",
    "print(f\"L'area d'un rectangle amb base {base} i {altura} altura és {area}\")"
   ]
  },
  {
   "cell_type": "code",
   "execution_count": 1,
   "metadata": {},
   "outputs": [
    {
     "name": "stdout",
     "output_type": "stream",
     "text": [
      "La suma de 3 i 4 és 7\n",
      "La resta de 3 i 4 és -1\n"
     ]
    }
   ],
   "source": [
    "# Exemple de funció que retorna una suma\n",
    "def sumar(a, b):\n",
    "    suma = a + b\n",
    "    return suma\n",
    "\n",
    "# Exemple de funció que retorna una resta\n",
    "def restar(a, b):\n",
    "    resta = a - b\n",
    "    return resta\n",
    "\n",
    "add = sumar(3, 4)\n",
    "sub = restar(3, 4)\n",
    "\n",
    "print(f\"La suma de 3 i 4 és {add}\")\n",
    "print(f\"La resta de 3 i 4 és {sub}\")"
   ]
  },
  {
   "cell_type": "markdown",
   "metadata": {},
   "source": [
    "## Exercici 2\n",
    "\n",
    "Fes un programa amb una funció 'calcula_promig' que accepta dos paràmetres: 'a' i 'b'\n",
    "\n",
    "Aquesta funció ha de retornar el valor del promig de 'a' i 'b'"
   ]
  },
  {
   "cell_type": "code",
   "execution_count": 1,
   "metadata": {},
   "outputs": [
    {
     "name": "stdout",
     "output_type": "stream",
     "text": [
      "20.0\n",
      "7.5\n",
      "15.0\n"
     ]
    }
   ],
   "source": [
    "def calcula_promig(a,b):\n",
    "    return (a + b) / 2\n",
    "print (calcula_promig (10,30))\n",
    "print (calcula_promig (5,10))\n",
    "print (calcula_promig (20,10))"
   ]
  },
  {
   "cell_type": "markdown",
   "metadata": {},
   "source": [
    "## Exercici 3\n",
    "\n",
    "Fes un programa amb dues funcions:\n",
    "\n",
    "* transformar_km_a_milles, amb la operació (kilòmetres * 0.62)\n",
    "\n",
    "* transformar_milles_a_km, amb la operació (milles / 0.62)\n",
    "\n",
    "El programa haurà de demanar a l'usuari: \"Entra una distància en kilòmetres: \"\n",
    "\n",
    "Després haurà de mostrar: \"La distància de X kilòmetres en milles és Y\" on X són els kilòmetres originals i Y les milles resultants\n",
    "\n",
    "Després haurà de tornar a calcular els kilòmetres a partir del resultat anterior\n",
    "\n",
    "Finalment, escriurà: \"El resultat de tornar a calcular els kilòmetres és: Z\" on Z és el resultat del càlcul anterior \n",
    "\n",
    "**Important:** Per millorar la lectura dels resultats, limita els prints a 3 decimals sense perdre informació"
   ]
  },
  {
   "cell_type": "code",
   "execution_count": 14,
   "metadata": {},
   "outputs": [
    {
     "name": "stdout",
     "output_type": "stream",
     "text": [
      "La distancia de 4.3 km en millas es 2.666\n",
      "El resultado de volver a calculas los km es: 4.300\n"
     ]
    }
   ],
   "source": [
    "def transformar_km_a_milles(km):\n",
    "    milles = km*0.62\n",
    "    return milles\n",
    "\n",
    "def transformar_milles_a_km(milles):\n",
    "    km = milles/0.62\n",
    "    return km\n",
    "\n",
    "km = float(input(\"¿Cuántos kilómetros?: \"))\n",
    "milles = transformar_km_a_milles(km)\n",
    "print(f\"La distancia de {km} km en millas es {milles:.3f}\")\n",
    "\n",
    "km_finales = transformar_milles_a_km(milles)\n",
    "print(f\"El resultado de volver a calculas los km es: {km_finales:.3f}\")"
   ]
  },
  {
   "cell_type": "markdown",
   "metadata": {},
   "source": [
    "## Retorn múltiple\n",
    "\n",
    "Python permet tornar més d'un valor al mateix temps.\n",
    "\n",
    "Per fer-ho, només cal separar els valors amb comes.\n",
    "\n",
    "return valor1, valor2, valor3\n",
    "\n",
    "Aleshores, per assignar els valors a variables, també cal separar-les amb comes\n",
    "\n",
    "var1, var2, var3 = funcio()"
   ]
  },
  {
   "cell_type": "code",
   "execution_count": 15,
   "metadata": {},
   "outputs": [
    {
     "name": "stdout",
     "output_type": "stream",
     "text": [
      "Resultats 'a'> suma:60, promig:20.00, maxim:30\n",
      "Resultats 'b'> suma:90, promig:30.00, maxim:40\n",
      "Resultats 'c'> suma:130, promig:43.33, maxim:50\n"
     ]
    }
   ],
   "source": [
    "# Exemple de funció amb valor de retorn múltiple\n",
    "def calcular_estadistiques(a, b, c):\n",
    "    suma = a + b + c\n",
    "    promig = suma / 3\n",
    "    maxim = max(a, b, c)\n",
    "    \n",
    "    return suma, promig, maxim\n",
    "\n",
    "suma_a, promig_a, maxim_a = calcular_estadistiques(10, 20, 30)\n",
    "suma_b, promig_b, maxim_b = calcular_estadistiques(40, 30, 20)\n",
    "suma_c, promig_c, maxim_c = calcular_estadistiques(50, 30, 50)\n",
    "\n",
    "print(f\"Resultats 'a'> suma:{suma_a}, promig:{promig_a:.2f}, maxim:{maxim_a}\")\n",
    "print(f\"Resultats 'b'> suma:{suma_b}, promig:{promig_b:.2f}, maxim:{maxim_b}\")\n",
    "print(f\"Resultats 'c'> suma:{suma_c}, promig:{promig_c:.2f}, maxim:{maxim_c}\")\n"
   ]
  },
  {
   "cell_type": "markdown",
   "metadata": {},
   "source": [
    "## Exercici 4\n",
    "\n",
    "Fes un programa amb dues funcions: \n",
    "\n",
    "* 'operacions_aritmetiques': que accepta dos paràmetres: 'a' i 'b' i retorna el resultat de les operacions: suma, resta, multiplicació i divisió\n",
    "\n",
    "* 'mostrar_resultats': que accepta 2 paràmetres: 'a', 'b', després crida a 'operacions_aritmetiques' i escriu:\n",
    "```python\n",
    "        a + b = suma, a - b = resta, a * b = multiplicacio, a / b = divisio\n",
    "```\n",
    "On a i b són els valors originals i suma, resta, multiplicacio, divisio són els altres paràmetres rebuts\n",
    "\n",
    "És a dir, la funció 'mostrar_resultats' si a = 2 i b = 4, ha de fer un print de:\n",
    "```python\n",
    "        4 + 2 = 6, 4 - 2 = 2, 4 * 2 = 8, 4 / 2 = 2     \n",
    "```\n",
    "**Nota**: Tingues en compte que les operacions es fan a la funció 'operacions_aritmetiques' i que la funció 'mostrar_resultats' només mostra informació"
   ]
  },
  {
   "cell_type": "code",
   "execution_count": null,
   "metadata": {},
   "outputs": [],
   "source": [
    "def operacions_aritmetiques (a,b)\n",
    "    suma = a + b\n",
    "    resta = a - b \n",
    "    multiplicació = (a * b)\n",
    "    divisió = a / b\n",
    "    return suma, resta, multiplicació, divisió\n",
    "\n",
    "def mostrar_resultats (a,b)\n",
    "    \n",
    "\n"
   ]
  },
  {
   "cell_type": "markdown",
   "metadata": {},
   "source": [
    "## Exercici 5\n",
    "\n",
    "Fes un programa python amb  dues funcions:\n",
    "\n",
    "* \"demana_info\" que demana a l'usuari el títol, director i any i retorna tres valors\n",
    "\n",
    "* \"informacio_peli\" que accepta 3 paràmetres: titol, director, any i mostra la informació així:\n",
    "```text\n",
    "        Títol: Gattacca, Director: Andrew Niccol, Any: 1997\n",
    "```\n",
    "El programa ha de demanar i mostrar la informació de 2 pel·lícules."
   ]
  },
  {
   "cell_type": "code",
   "execution_count": 36,
   "metadata": {},
   "outputs": [
    {
     "name": "stdout",
     "output_type": "stream",
     "text": [
      "Títol: dfdfdf, Director: fdfdfd, Any: 56\n"
     ]
    }
   ],
   "source": [
    "def demana_info():\n",
    "    title = input(\"Introdueix el títol de la pel·lícula: \")\n",
    "    director = input(\"Introdueix el nom del director: \")\n",
    "    year = int(input(\"Introdueix l'any de l'estrena: \"))\n",
    "    return title, director, year\n",
    "\n",
    "def informacio_peli(title, director, year):\n",
    "    print(f\"Títol: {title}, Director: {director}, Any: {year}\")\n",
    "\n",
    "title, director, year = demana_info()\n",
    "informacio_peli(title, director, year)"
   ]
  },
  {
   "cell_type": "markdown",
   "metadata": {},
   "source": [
    "## Exercici 6\n",
    "\n",
    "Un palíndrom és una frase que, es llegeix igual del dret que del revés (Tota en minúscula, i si no tens en compte els espais o caràcters especials)\n",
    "\n",
    "Per exemple:\n",
    "```text\n",
    "Anul·la la lluna\n",
    "Atrapa'l o l'aparta\n",
    "No sap pas on\n",
    "Tramaran anar a Mart\n",
    "Un pop nu\n",
    "```\n",
    "Fes una funció anomenada \"es_palindrom\" que accepta un text d'entrada i retorna \"True\" o \"False\" segons si la frase és un palíndrom.\n",
    "\n",
    "Per avaluar si és un palíndrom:\n",
    "* Treu tots els espais en blanc de la frase, fes-ho amb replace\n",
    "* Treu també els caràcters: · i '\n",
    "* Passa la frase a minúsules\n",
    "* Compara si el resultat anterior és igual al seu invertit (amb [::-1])\n",
    "\n",
    "S'ha de mostrar per pantalla: \n",
    "```text\n",
    "        \"És la frase 'X' un palindrom? Y\"\n",
    "        On X és la frase d'entrada i Y és \"True\" o \"False\"\n",
    "```\n",
    "Validar els anagrames d'exemple anteriors, i un parell de textos que no són anagrames"
   ]
  },
  {
   "cell_type": "code",
   "execution_count": 42,
   "metadata": {},
   "outputs": [
    {
     "name": "stdout",
     "output_type": "stream",
     "text": [
      "És la frase 'no sap pas on' un palíndrom? True\n"
     ]
    }
   ],
   "source": [
    "def es_palindrom(text):\n",
    "    text = text.lower().replace(\" \", \"\").replace(\"'\", \"\").replace(\"·\", \"\")\n",
    "    reverse_text = text[::-1]\n",
    "\n",
    "    return text == reverse_text\n",
    "\n",
    "string = input(\"Introdueix la frase a evaluar: \")\n",
    "print(f\"És la frase '{string}' un palíndrom? {es_palindrom(string)}\")\n"
   ]
  },
  {
   "cell_type": "markdown",
   "metadata": {},
   "source": [
    "## Exercici 7\n",
    "\n",
    "Un anagrama és un text, que passat a minúscules i ordenant els seus caràcters, és igual a un altre.\n",
    "\n",
    "Per exemple:\n",
    "```text\n",
    "Mare i Rema\n",
    "Porta i Tropa\n",
    "Triangle i Integral\n",
    "Sopa i Posa\n",
    "```\n",
    "Fes una funció anomenada \"son_anagrama\" que accepta dues paraules d'entrada, i retorna \"True\" o \"False\" segons si són anagrames.\n",
    "\n",
    "Per avaluar si són anagrames:\n",
    "* Treu tots els espais en blanc de les paraules\n",
    "* Passa les paraules a minúscules\n",
    "* Ordena les lletres de les paraules\n",
    "* Compara si els dos resultats anteriors són iguals\n",
    "\n",
    "S'ha de mostrar per pantalla: \n",
    "```text\n",
    "        \"Són les paraules 'X' i 'Y' anagrames? Z\"\n",
    "        On X i Y són les paraules d'entrada i Z és \"True\" o \"False\"\n",
    "```\n",
    "Validar els anagrames d'exemple anteriors, i un parell de proves amb quatre paraules que no siguin anagrames."
   ]
  },
  {
   "cell_type": "code",
   "execution_count": 46,
   "metadata": {},
   "outputs": [
    {
     "ename": "AttributeError",
     "evalue": "'builtin_function_or_method' object has no attribute 'text'",
     "output_type": "error",
     "traceback": [
      "\u001b[0;31m---------------------------------------------------------------------------\u001b[0m",
      "\u001b[0;31mAttributeError\u001b[0m                            Traceback (most recent call last)",
      "Cell \u001b[0;32mIn[46], line 7\u001b[0m\n\u001b[1;32m      4\u001b[0m     \u001b[38;5;28;01mreturn\u001b[39;00m anagrama \u001b[38;5;241m==\u001b[39m text\n\u001b[1;32m      6\u001b[0m string \u001b[38;5;241m=\u001b[39m \u001b[38;5;28minput\u001b[39m(\u001b[38;5;124m\"\u001b[39m\u001b[38;5;124mIntrodueix la frase a evaluar: \u001b[39m\u001b[38;5;124m\"\u001b[39m)\n\u001b[0;32m----> 7\u001b[0m \u001b[38;5;28mprint\u001b[39m(\u001b[38;5;124mf\u001b[39m\u001b[38;5;124m\"\u001b[39m\u001b[38;5;124mÉs la frase \u001b[39m\u001b[38;5;124m'\u001b[39m\u001b[38;5;132;01m{\u001b[39;00managrama\u001b[38;5;132;01m}\u001b[39;00m\u001b[38;5;124m'\u001b[39m\u001b[38;5;124m un anagrama? \u001b[39m\u001b[38;5;132;01m{\u001b[39;00m\u001b[43managrama\u001b[49m\u001b[43m(\u001b[49m\u001b[43mstring\u001b[49m\u001b[43m)\u001b[49m\u001b[38;5;132;01m}\u001b[39;00m\u001b[38;5;124m\"\u001b[39m)\n",
      "Cell \u001b[0;32mIn[46], line 3\u001b[0m, in \u001b[0;36managrama\u001b[0;34m(text)\u001b[0m\n\u001b[1;32m      1\u001b[0m \u001b[38;5;28;01mdef\u001b[39;00m \u001b[38;5;21managrama\u001b[39m(text):\n\u001b[1;32m      2\u001b[0m     text \u001b[38;5;241m=\u001b[39m text\u001b[38;5;241m.\u001b[39mlower()\u001b[38;5;241m.\u001b[39mreplace(\u001b[38;5;124m\"\u001b[39m\u001b[38;5;124m \u001b[39m\u001b[38;5;124m\"\u001b[39m, \u001b[38;5;124m\"\u001b[39m\u001b[38;5;124m\"\u001b[39m)\u001b[38;5;241m.\u001b[39mreplace(\u001b[38;5;124m\"\u001b[39m\u001b[38;5;124m'\u001b[39m\u001b[38;5;124m\"\u001b[39m, \u001b[38;5;124m\"\u001b[39m\u001b[38;5;124m\"\u001b[39m)\u001b[38;5;241m.\u001b[39mreplace(\u001b[38;5;124m\"\u001b[39m\u001b[38;5;124m·\u001b[39m\u001b[38;5;124m\"\u001b[39m, \u001b[38;5;124m\"\u001b[39m\u001b[38;5;124m\"\u001b[39m)\n\u001b[0;32m----> 3\u001b[0m     anagrama \u001b[38;5;241m=\u001b[39m \u001b[38;5;28;43msorted\u001b[39;49m\u001b[38;5;241;43m.\u001b[39;49m\u001b[43mtext\u001b[49m\n\u001b[1;32m      4\u001b[0m     \u001b[38;5;28;01mreturn\u001b[39;00m anagrama \u001b[38;5;241m==\u001b[39m text\n",
      "\u001b[0;31mAttributeError\u001b[0m: 'builtin_function_or_method' object has no attribute 'text'"
     ]
    }
   ],
   "source": [
    "def anagrama(text):\n",
    "    text = text.lower().replace(\" \", \"\").replace(\"'\", \"\").replace(\"·\", \"\")\n",
    "    anagrama = sorted.text\n",
    "    return anagrama == text\n",
    "\n",
    "string = input(\"Introdueix la frase a evaluar: \")\n",
    "print(f\"És la frase '{anagrama}' un anagrama? {anagrama(string)}\")\n"
   ]
  },
  {
   "cell_type": "markdown",
   "metadata": {},
   "source": [
    "***\n",
    "# Funcions avançades\n",
    "\n",
    "Pels que teniu inquietuds més enllà de la programació bàsica, aquí teniu com definir funcions amb paràmetres opcionals\n",
    "***"
   ]
  },
  {
   "cell_type": "markdown",
   "metadata": {},
   "source": [
    "## Paràmetres opcionals\n",
    "\n",
    "Les funcions en Python poden acceptar paràmetres opcionals\n",
    "\n",
    "El programador no té perquè proporcionar-los quan crida la funció\n",
    "\n",
    "Són opcions adicionals que es poden utilitzar si es necessita\n",
    "\n",
    "El format és:\n",
    "```text\n",
    "        nom_del_parametre=valor_per_defecte\n",
    "```\n",
    "Quan es crida una funció amb paràmetres opcionals, i es vol ignorar un paràmetre però posar el següent, es pot indicar amb el nom del paràmetre directament (mirar opció 'ocupacio' de l'exemple)"
   ]
  },
  {
   "cell_type": "code",
   "execution_count": null,
   "metadata": {},
   "outputs": [],
   "source": [
    "# Exemple d'una funció amb un paràmetre opcional\n",
    "def salut_personalitzat(nom, cognom, color='groc'):\n",
    "    print(f'Hola, {nom} {cognom}')\n",
    "    print(f\"      t'han dibuixat de color {color}\")\n",
    "\n",
    "salut_personalitzat('Bob', 'Squarepants')\n",
    "salut_personalitzat('Patrick', 'Star', 'rosa')"
   ]
  },
  {
   "cell_type": "code",
   "execution_count": null,
   "metadata": {},
   "outputs": [],
   "source": [
    "def mostrar_informacio(nom, edat=0, ciutat=\"Desconeguda\", ocupacio=\"Sense ocupació\"):\n",
    "    print(f\"Nom: {nom}\")\n",
    "    print(f\"Edat: {edat} anys\")\n",
    "    print(f\"Ciutat: {ciutat}\")\n",
    "    print(f\"Ocupació: {ocupacio}\")\n",
    "\n",
    "# Exemples d'ús de la funció amb paràmetres opcionals\n",
    "mostrar_informacio(\"Anna\")  # Només es proporciona el nom\n",
    "print(\"--------------------------\")\n",
    "mostrar_informacio(\"Pau\", 25)  # S'especifica el nom i l'edat\n",
    "print(\"--------------------------\")\n",
    "mostrar_informacio(\"Carla\", 30, \"Barcelona\")  # S'especifica el nom, l'edat i la ciutat\n",
    "print(\"--------------------------\")\n",
    "mostrar_informacio(\"David\", ocupacio=\"Enginyer\")  # S'especifica el nom i l'ocupació\n"
   ]
  },
  {
   "cell_type": "markdown",
   "metadata": {},
   "source": [
    "## Paràmetres posicionals indefinits\n",
    "\n",
    "Hi han funcions que poden acceptar paràmetres indefinits, això es fa amb *\n",
    "\n",
    "```python\n",
    "def funcio(*args):\n",
    "    for arg in args:\n",
    "        print(arg)\n",
    "```\n",
    "\n",
    "Els paràmetres indefinits permeten passar 0 o X paràmetres a una funció."
   ]
  },
  {
   "cell_type": "code",
   "execution_count": null,
   "metadata": {},
   "outputs": [],
   "source": [
    "def func(*args):\n",
    "    print(len(args))\n",
    "    if len(args) > 0:\n",
    "        print(args[0])\n",
    "    if len(args) > 1:\n",
    "        print(args[1])\n",
    "    if len(args) > 2:\n",
    "        print(args[2])\n",
    "    if len(args) > 3:\n",
    "        print(\"No s'accepten més de 3 paràmetres\")\n",
    "\n",
    "func(\"Hola\")\n",
    "func(\"Hola\", \"que\")\n",
    "func(\"Hola\", \"que\", \"tal\")\n",
    "func(\"Hola\", \"que\", \"tal\", \"estàs?\")"
   ]
  },
  {
   "cell_type": "code",
   "execution_count": null,
   "metadata": {},
   "outputs": [],
   "source": [
    "# Exemple de funció amb paràmetres opcionals i paràmetres variables\n",
    "def func2(numero, opcional=\"op\", *args):\n",
    "    print(f\"{numero}, {opcional}, {len(args)}\")\n",
    "    if len(args) > 0:\n",
    "        print(args[0])\n",
    "    if len(args) > 1:\n",
    "        print(args[1])\n",
    "    if len(args) > 2:\n",
    "        print(args[2])\n",
    "    if len(args) > 3:\n",
    "        print(\"No s'accepten més de 3 paràmetres\")\n",
    "\n",
    "func2(0, \"Hola\")\n",
    "func2(1, \"po\", \"Hola\", \"que\")\n"
   ]
  },
  {
   "cell_type": "markdown",
   "metadata": {},
   "source": [
    "## Dades dels paràmetres posicionals\n",
    "\n",
    "De la llista de paràmetres opcionals, en podem obtenir:\n",
    "\n",
    "- El nom\n",
    "- El tipus\n",
    "- El valor"
   ]
  },
  {
   "cell_type": "code",
   "execution_count": null,
   "metadata": {},
   "outputs": [],
   "source": [
    "def test(**kwargs):\n",
    "    for key, value in kwargs.items():\n",
    "        print(f\"Key name: '{key}', type: '{type(value).__name__}', value: '{value}'\")\n",
    "\n",
    "test(a=1, b=2.3, c=\"Hola\", d=[0, 1, 2], e={\"name\": \"Bob\"})"
   ]
  }
 ],
 "metadata": {
  "kernelspec": {
   "display_name": "Python 3",
   "language": "python",
   "name": "python3"
  },
  "language_info": {
   "codemirror_mode": {
    "name": "ipython",
    "version": 3
   },
   "file_extension": ".py",
   "mimetype": "text/x-python",
   "name": "python",
   "nbconvert_exporter": "python",
   "pygments_lexer": "ipython3",
   "version": "3.12.3"
  },
  "orig_nbformat": 4
 },
 "nbformat": 4,
 "nbformat_minor": 2
}

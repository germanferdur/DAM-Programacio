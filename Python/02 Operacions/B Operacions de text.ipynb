{
 "cells": [
  {
   "cell_type": "markdown",
   "metadata": {},
   "source": [
    "<div style=\"display: flex; width: 100%;\">\n",
    "    <div style=\"flex: 1; padding: 0px;\">\n",
    "        <p>© Albert Palacios Jiménez, 2023</p>\n",
    "    </div>\n",
    "    <div style=\"flex: 1; padding: 0px; text-align: right;\">\n",
    "        <img src=\"./assets/ieti.png\" height=\"32\" alt=\"Logo de IETI\" style=\"max-height: 32px;\">\n",
    "    </div>\n",
    "</div>\n",
    "<hr/>"
   ]
  },
  {
   "cell_type": "markdown",
   "metadata": {},
   "source": [
    "# Operacions amb text\n",
    "\n",
    "<center><img src=\"./assets/02b_00.png\" height=\"200\" style=\"max-height: 200px;\" /></center>\n",
    "\n",
    "Els programes, sovint han de modificar cadenes de text per mostrar o organitzar informació.\n",
    "\n",
    "Hi ha una sèrie d'operacions que ens permeten modificar cadenes de text."
   ]
  },
  {
   "cell_type": "code",
   "execution_count": 1,
   "metadata": {},
   "outputs": [
    {
     "name": "stdout",
     "output_type": "stream",
     "text": [
      "El valor de '2' + '2' és 22\n",
      "El tipus de la variable 'a' és: str\n",
      "El valor de 2 + 2 és 4\n",
      "El tipus de la variable 'b' és: int\n"
     ]
    }
   ],
   "source": [
    "# Exemple introductori de les operacions amb text\n",
    "a = '2' + '2'\n",
    "print(f\"El valor de '2' + '2' és {a}\")\n",
    "print(f\"El tipus de la variable 'a' és: {type(a).__name__}\")\n",
    "\n",
    "b = 2 + 2\n",
    "print(f\"El valor de 2 + 2 és {b}\")\n",
    "print(f\"El tipus de la variable 'b' és: {type(b).__name__}\")"
   ]
  },
  {
   "cell_type": "markdown",
   "metadata": {},
   "source": [
    "# Operacions bàsiques amb cadenes de text\n",
    "\n",
    "Aquestes són les operacions que es fan habitualment per manipular cadenes de text:\n",
    "\n",
    "* **Longitud**: Obtenir la longitud d'una cadena de text\n",
    "\n",
    "* **Concatenació**: Ajuntar dues o més cadenes de text en una sola\n",
    "\n",
    "* **Idexació**: Accedir a caràcters individuals d'una cadena de text\n",
    "\n",
    "* **Subcadena**: Accedir a una part de text d'una cadena més llarga\n",
    "\n",
    "* **Repetició**: Repetir una cadena de text diverses vegades\n",
    "\n",
    "* **Conversió**: Convertir una cadena de text a majúscules (o minúscules)\n",
    "\n",
    "* **Ordenar**: Ordenar les lletres en una cadena de text\n",
    "\n",
    "* **Substitució**: Substituir una part d'una cadena per una altre\n",
    "\n",
    "* **Cerca**: Buscar sub-cadenes de text en un text (retorna -1 si no troba el sub-text)"
   ]
  },
  {
   "cell_type": "markdown",
   "metadata": {},
   "source": [
    "### Important!\n",
    "\n",
    "Quan es compten les posicions d'una cadena de text, es compten a partir de 0. \n",
    "\n",
    "És a dir, mira el següent text quina posició correspon a cada caràcter:\n",
    "```text\n",
    "    Hola, món!\n",
    "    0123456789\n",
    "```"
   ]
  },
  {
   "cell_type": "code",
   "execution_count": 11,
   "metadata": {},
   "outputs": [
    {
     "name": "stdout",
     "output_type": "stream",
     "text": [
      "La longitud de la cadena és: 10\n"
     ]
    }
   ],
   "source": [
    "# Exemple de longitud:\n",
    "cadena = \"Hola, món!\"\n",
    "longitud = len(cadena)\n",
    "print(f\"La longitud de la cadena és: {longitud}\")\n",
    "\n"
   ]
  },
  {
   "cell_type": "code",
   "execution_count": null,
   "metadata": {},
   "outputs": [],
   "source": [
    "# Exemple de concatenació (amb +)\n",
    "salutacio = \"Hola\"\n",
    "nom = \"Maria\"\n",
    "frase = salutacio + \", \" + nom + \"!\"\n",
    "print(f\"Frase concatenada: {frase}\")\n",
    "\n",
    "text_2 = \"2\"\n",
    "text_3 = \"3\"\n",
    "suma_text = text_2 + text_3\n",
    "print(f\"Suma dels textos '{text_2}' + '{text_3}': '{suma_text}'\")"
   ]
  },
  {
   "cell_type": "code",
   "execution_count": 3,
   "metadata": {},
   "outputs": [
    {
     "name": "stdout",
     "output_type": "stream",
     "text": [
      "El primer caràcter és: P\n",
      "El tercer caràcter és: t\n",
      "El cinquè caràcter és: o\n"
     ]
    }
   ],
   "source": [
    "# Exemple d'indexació (conta a partir de 0!)\n",
    "cadena = \"Python\"\n",
    "primer_caracter = cadena[0]\n",
    "tercer_caracter = cadena[2]\n",
    "cinque_caracter = cadena[4]\n",
    "print(f\"El primer caràcter és: {primer_caracter}\")\n",
    "print(f\"El tercer caràcter és: {tercer_caracter}\")\n",
    "print(f\"El cinquè caràcter és: {cinque_caracter}\")"
   ]
  },
  {
   "cell_type": "code",
   "execution_count": 4,
   "metadata": {},
   "outputs": [
    {
     "name": "stdout",
     "output_type": "stream",
     "text": [
      "Subcadena: 'thon és'\n"
     ]
    }
   ],
   "source": [
    "#Exemple de subcadena\n",
    "cadena = \"Python és divertit\"\n",
    "subcadena = cadena[2:9]  # Troç de cadena entre \"t\" i \"é\"\n",
    "print(f\"Subcadena: '{subcadena}'\")"
   ]
  },
  {
   "cell_type": "code",
   "execution_count": 5,
   "metadata": {},
   "outputs": [
    {
     "name": "stdout",
     "output_type": "stream",
     "text": [
      "A\n",
      "b\n",
      "r\n"
     ]
    }
   ],
   "source": [
    "# Exemple d'obtenir un caràcter d'una cadena de text\n",
    "nom=\"Albert\"\n",
    "print(nom[0]) # Escriu A\n",
    "print(nom[2]) # Escriu b\n",
    "print(nom[4]) # Escriu r"
   ]
  },
  {
   "cell_type": "code",
   "execution_count": 6,
   "metadata": {},
   "outputs": [
    {
     "name": "stdout",
     "output_type": "stream",
     "text": [
      "Repetició: 'Hola Hola Hola '\n"
     ]
    }
   ],
   "source": [
    "# Exemple de repetició\n",
    "cadena = \"Hola \"\n",
    "repetida = cadena * 3  # Repetim la cadena 3 vegades\n",
    "print(f\"Repetició: '{repetida}'\")"
   ]
  },
  {
   "cell_type": "code",
   "execution_count": 34,
   "metadata": {},
   "outputs": [
    {
     "name": "stdout",
     "output_type": "stream",
     "text": [
      "Majúscules: EXEMPLE\n",
      "Minúscules: exemple\n",
      "Text amb la primera lletra en majúscula: Python\n"
     ]
    }
   ],
   "source": [
    "# Exemple de conversió\n",
    "text = \"Exemple\"\n",
    "majuscules = text.upper()\n",
    "minuscules = text.lower()\n",
    "print(f\"Majúscules: {majuscules}\")\n",
    "print(f\"Minúscules: {minuscules}\")\n",
    "\n",
    "# Exemple de convertir la primera lletra en majúscula\n",
    "text = \"python\"\n",
    "text = text.capitalize()\n",
    "print(f\"Text amb la primera lletra en majúscula: {text}\")"
   ]
  },
  {
   "cell_type": "code",
   "execution_count": 7,
   "metadata": {},
   "outputs": [
    {
     "name": "stdout",
     "output_type": "stream",
     "text": [
      "Ordena els caràcters de 'Hola, adeu': [' ', ',', 'H', 'a', 'a', 'd', 'e', 'l', 'o', 'u']\n",
      "Ordena els caràcters de 'hola, HOLA': [' ', ',', 'A', 'H', 'L', 'O', 'a', 'h', 'l', 'o']\n",
      "Ordena els caràcters de 'hola, hola': [' ', ',', 'a', 'a', 'h', 'h', 'l', 'l', 'o', 'o']\n"
     ]
    }
   ],
   "source": [
    "# Exemple d'ordenació\n",
    "text = \"Hola, adeu\"\n",
    "ordenat = sorted(text)\n",
    "print(f\"Ordena els caràcters de '{text}': {ordenat}\")\n",
    "\n",
    "text = \"hola, HOLA\"\n",
    "ordenat = sorted(text)\n",
    "print(f\"Ordena els caràcters de '{text}': {ordenat}\")\n",
    "\n",
    "text = \"hola, HOLA\".lower()\n",
    "ordenat = sorted(text)\n",
    "print(f\"Ordena els caràcters de '{text}': {ordenat}\")"
   ]
  },
  {
   "cell_type": "code",
   "execution_count": 8,
   "metadata": {},
   "outputs": [
    {
     "name": "stdout",
     "output_type": "stream",
     "text": [
      "Substitució a la frase 'Hola, món!': Hola, Maria!\n",
      "Substitució a la frase 'En Bob s'ha llevat amb bon peu': EnBobshallevatambbonpeu\n"
     ]
    }
   ],
   "source": [
    "# Exemple de substitució\n",
    "text = \"Hola, món!\"\n",
    "nou_text = text.replace(\"món\", \"Maria\")\n",
    "print(f\"Substitució a la frase '{text}': {nou_text}\")\n",
    "\n",
    "text = \"En Bob s'ha llevat amb bon peu\"\n",
    "nou_text = text.replace(\" \", \"\").replace(\"'\", \"\")\n",
    "print(f\"Substitució a la frase '{text}': {nou_text}\")"
   ]
  },
  {
   "cell_type": "code",
   "execution_count": 9,
   "metadata": {},
   "outputs": [
    {
     "name": "stdout",
     "output_type": "stream",
     "text": [
      "Posició de 'món' a la frase 'Hola, món!': 6\n",
      "Posició de 'Maria' a la frase 'Hola, món!': -1\n",
      "La primera posició de 'pantalons' a la frase 'En Bob s'ha posat pantalons nets': 18\n",
      "La segona  posició de 'pantalons' a la frase 'En Bob s'ha posat pantalons nets i ha rentat els pantalons d'ahir.': 49\n",
      "La última  posició de 'pantalons' a la frase 'En Bob s'ha posat pantalons nets i ha rentat els pantalons d'ahir, ha guardat els pantalons nets': 82\n"
     ]
    }
   ],
   "source": [
    "# Exemple de cerca\n",
    "text = \"Hola, món!\"\n",
    "posicio = text.find(\"món\")text.find(\"món\")\n",
    "print(f\"Posició de 'món' a la frase '{text}': {posicio}\")\n",
    "\n",
    "text = \"Hola, món!\"\n",
    "posicio = text.find(\"Maria\")\n",
    "print(f\"Posició de 'Maria' a la frase '{text}': {posicio}\")\n",
    "\n",
    "text = \"En Bob s'ha posat pantalons nets\"\n",
    "posicio = text.find(\"pantalons\")\n",
    "print(f\"La primera posició de 'pantalons' a la frase '{text}': {posicio}\")\n",
    "\n",
    "text = \"En Bob s'ha posat pantalons nets i ha rentat els pantalons d'ahir.\"\n",
    "posicio_primera = text.find(\"pantalons\")\n",
    "posicio_segona = text.find(\"pantalons\", posicio_primera + 1)\n",
    "print(f\"La segona  posició de 'pantalons' a la frase '{text}': {posicio_segona}\")\n",
    "\n",
    "text = \"En Bob s'ha posat pantalons nets i ha rentat els pantalons d'ahir, ha guardat els pantalons nets\"\n",
    "posicio_ultima = text.rfind(\"pantalons\")\n",
    "print(f\"La última  posició de 'pantalons' a la frase '{text}': {posicio_ultima}\")"
   ]
  },
  {
   "cell_type": "markdown",
   "metadata": {},
   "source": [
    "## Exercici 0\n",
    "\n",
    "Fes un programa amb una variable que tingui el següent text: \"Monsters Are Victims Too\"\n",
    "\n",
    "Després manipula aquest text per aconseguir mostrar:\n",
    "* La llargada de la frase\n",
    "* La subcadena 'Are' fent servir [:]\n",
    "* Repeteix la subcadena anterior 5 vegades\n",
    "* La frase amb només la primera M majúscula"
   ]
  },
  {
   "cell_type": "code",
   "execution_count": 43,
   "metadata": {},
   "outputs": [
    {
     "name": "stdout",
     "output_type": "stream",
     "text": [
      "La longitud de la frase és 24\n",
      "Subcadena:' Are'\n",
      "Repetició:' Are Are Are Are Are'\n",
      "Text amb la primera lletra en majúscula: Monsters are victims too\n"
     ]
    }
   ],
   "source": [
    "#La llargada de la frase\n",
    "cadena = \"Monsters Are Victims too\"\n",
    "longitud = len(cadena)\n",
    "print(f\"La longitud de la frase és {longitud}\")\n",
    "#La subcadena 'Are' fent servir :\n",
    "subcadena = cadena[8:12]  # Troç de cadena 'Are'\n",
    "print(f\"Subcadena:'{subcadena}'\")\n",
    "#Repeteix la subcadena 5 vegades\n",
    "repetida = subcadena * 5\n",
    "print(f\"Repetició:'{repetida}'\")\n",
    "#La frase amb només la M majúscula\n",
    "text = \"Monsters are Victims Too\"\n",
    "text = text.capitalize()\n",
    "print(f\"Text amb la primera lletra en majúscula: {text}\")"
   ]
  },
  {
   "cell_type": "markdown",
   "metadata": {},
   "source": [
    "## Invertir cadenes de text\n",
    "\n",
    "L'operador 'retallar' [:] que hem fet servir per obtenir subcadenes, té altres usos.\n",
    "\n",
    "Un de molt interessant és la capacitat d'invertir cadenes de text amb la notació [::-1]"
   ]
  },
  {
   "cell_type": "code",
   "execution_count": 27,
   "metadata": {},
   "outputs": [
    {
     "name": "stdout",
     "output_type": "stream",
     "text": [
      "Cadena invertida: titrevid sé nohtyP\n"
     ]
    }
   ],
   "source": [
    "# Exemple de com invertir una cadena de text\n",
    "cadena = \"Python és divertit\"\n",
    "cadena_invertida = cadena[::-1]\n",
    "print(\"Cadena invertida:\", cadena_invertida)\n"
   ]
  },
  {
   "cell_type": "markdown",
   "metadata": {},
   "source": [
    "## Exercici 1\n",
    "\n",
    "Fes un programa amb una variable que tingui el següent text: \"Gotta Lose Something To Get Something\"\n",
    "\n",
    "Després manipula aquest text per aconseguir mostrar:\n",
    "* La llargada de la frase\n",
    "* La subcadena 'Something' en majúscules\n",
    "* Les subcadenes \"Lose\" i \"Get\" repetides dos cops cada una \"LoseLoseGetGet\"\n",
    "* La cadena intercanviant paraules en majúscules i minúscules: \"GOTTA lose SOMETHING to GET something\"\n",
    "* La subcadena invertida, sense espais, de la part: \"Lose Something To\""
   ]
  },
  {
   "cell_type": "code",
   "execution_count": 44,
   "metadata": {},
   "outputs": [
    {
     "name": "stdout",
     "output_type": "stream",
     "text": [
      "La longitud de la cadena es: 37\n",
      "La subcadena en mayúsculas es: SOMETHING\n",
      "Las subcadenas Lose y Get repetidas dos veces cada una: LoseLoseGetGet\n",
      "GOTTA lose SOMETHING to GET something\n",
      "La subcadena 'Lose Something To', invertida y sin espacios, es: oTgnihtemoSesoL\n"
     ]
    }
   ],
   "source": [
    "#1er punto\n",
    "cadena = \"Gotta Lose Something To Get Something\"\n",
    "longitud_cadena = len(cadena)\n",
    "print(f\"La longitud de la cadena es: {longitud_cadena}\")\n",
    "\n",
    "#4to punto\n",
    "subcadena_something = cadena[11:20]\n",
    "print(f\"La subcadena en mayúsculas es: {subcadena_something.upper()}\")\n",
    "\n",
    "#3er punto\n",
    "subcadena_lose = cadena[6:10]\n",
    "subcadena_get = cadena[24:27]\n",
    "print(f\"Las subcadenas Lose y Get repetidas dos veces cada una: {(subcadena_lose) * 2 + (subcadena_get) * 2}\")\n",
    "\n",
    "#4to punto\n",
    "subcadena_gotta = cadena[:5]\n",
    "subcadena_to = cadena[21:23]\n",
    "print(subcadena_gotta.upper(), subcadena_lose.lower(), subcadena_something.upper(), subcadena_to.lower(), subcadena_get.upper(), subcadena_something.lower())\n",
    "\n",
    "#5to punto\n",
    "subcadena_5 = cadena[6:23]\n",
    "subcadena_5_sin_espacios = subcadena_5.replace(\" \", \"\")\n",
    "print(f\"La subcadena 'Lose Something To', invertida y sin espacios, es: {subcadena_5_sin_espacios[::-1]}\")\n"
   ]
  },
  {
   "cell_type": "markdown",
   "metadata": {},
   "source": [
    "## Exercici 2\n",
    "\n",
    "Fes un programa amb una variable que tingui el següent text: \"The pain you feel today will be the strength you'll have tomorrow.\"\n",
    "\n",
    "Després manipula aquest text per aconseguir mostrar:\n",
    "* La llargada de la frase\n",
    "* La subcadena \"The strength you'll have tomorrow\"\n",
    "* Subcadenes concatenades per fer una nova frase: \"Today you'll have the strength you'll feel tomorrow.\"\n",
    "* La subcadena invertida, sense espais ni cometes simples, de la part: \"you'll have the\""
   ]
  },
  {
   "cell_type": "code",
   "execution_count": 42,
   "metadata": {},
   "outputs": [
    {
     "name": "stdout",
     "output_type": "stream",
     "text": [
      "La llargada de la frase és de 66\n",
      "La subcadena: 'the strength you'll have tomorrow'\n",
      "Nova frase: today you'll have the strength you'll feel tomorrow\n",
      "La subcadena invertida es: ll'uoyevaheht\n"
     ]
    }
   ],
   "source": [
    "#Llargada de la frase\n",
    "cadena = \"The pain you feel today will be the strength you'll have tomorrow.\"\n",
    "longitud = len(cadena)\n",
    "print (f\"La llargada de la frase és de {longitud}\")\n",
    "#Subcadena \"the strength you'll have tomorrow\"\n",
    "subcadena = cadena[32:65]\n",
    "print (f\"La subcadena: '{subcadena}'\")\n",
    "#Subcadenes concatenades per fer una nova frase: \"Today you'll have the strength you'll feel tomorrow.\"\n",
    "subcadena_Today = cadena[18:23]\n",
    "subcadena_youll = cadena[45:51]\n",
    "subcadena_have = cadena [52:56]\n",
    "subcadena_the = cadena [32:35]\n",
    "subcadena_strength = cadena[36:44]\n",
    "subcadena_feel = cadena[13:17]\n",
    "subcadena_tomorrow = cadena [57:65]\n",
    "print (f\"Nova frase: {subcadena_Today} {subcadena_youll} {subcadena_have} {subcadena_the} {subcadena_strength} {subcadena_youll} {subcadena_feel} {subcadena_tomorrow}\")\n",
    "#Subcadena invertida\n",
    "subcadena_inver = subcadena_youll[::-1] + subcadena_have[::-1] + subcadena_the[::-1]\n",
    "print (f\"La subcadena invertida es: {subcadena_inver}\")"
   ]
  },
  {
   "cell_type": "markdown",
   "metadata": {},
   "source": [
    "## Funcions de posicionament\n",
    "\n",
    "Python permet posicionar les cadenes de text que surten per pantalla\n",
    "\n",
    "* **ljust(ample, caracter_emplenat)**: Alinea el text a l'esquerra\n",
    "\n",
    "* **center(ample, caracter_emplenat)**: Centra el text segons l'ample indicat\n",
    "\n",
    "* **rjust(ample, caracter_emplenat)**: Alinea el text a la dreta"
   ]
  },
  {
   "cell_type": "code",
   "execution_count": 50,
   "metadata": {},
   "outputs": [
    {
     "name": "stdout",
     "output_type": "stream",
     "text": [
      "Text a l'esquerra:       |Avui fa fred--------\n",
      "Text al centre:          |----Avui fa fred----\n",
      "Text a la dreta:         |--------Avui fa fred\n"
     ]
    }
   ],
   "source": [
    "# Exemple d'alineació de text\n",
    "\n",
    "titol_esquerra = \"Text a l'esquerra: \".ljust(25)\n",
    "titol_centrat = \"Text al centre: \".ljust(25)\n",
    "titol_dreta = \"Text a la dreta: \".ljust(25)\n",
    "\n",
    "text = \"Avui fa fred\"\n",
    "text_esquerra = text.ljust(20, '-')\n",
    "text_centrat = text.center(20, '-')\n",
    "text_dreta = text.rjust(20, '-')\n",
    "\n",
    "print(titol_esquerra + '|' + text_esquerra)\n",
    "print(titol_centrat + '|' + text_centrat)\n",
    "print(titol_dreta + '|' + text_dreta)"
   ]
  },
  {
   "cell_type": "markdown",
   "metadata": {},
   "source": [
    "## Retallat d'espais inicials i finals\n",
    "\n",
    "Quan tenim cadenes de text amb espais al principi o al final, ens pot interessar ometre'ls\n",
    "\n",
    "* **lstrip**: Retorna la cadena de text sense els espais inicials\n",
    "\n",
    "* **rstrip**: Retorna la cadena de text sense els espais finals\n",
    "\n",
    "* **strip** : Retorna la cadena de text sense els espais inicials i finals omesos"
   ]
  },
  {
   "cell_type": "code",
   "execution_count": 46,
   "metadata": {},
   "outputs": [
    {
     "name": "stdout",
     "output_type": "stream",
     "text": [
      "Text retallat a l'esquerra: 'Avui fa fred   '\n",
      "Text retallat a la dreta: '   Avui fa fred'\n",
      "Text retallat: 'Avui fa fred'\n"
     ]
    }
   ],
   "source": [
    "# Exemple de retallat d'espais\n",
    "\n",
    "text = \"   Avui fa fred   \"\n",
    "\n",
    "text_retallat_esquerra = text.lstrip()\n",
    "print(f\"Text retallat a l'esquerra: '{text_retallat_esquerra}'\")\n",
    "\n",
    "text_retallat_dreta = text.rstrip()\n",
    "print(f\"Text retallat a la dreta: '{text_retallat_dreta}'\")\n",
    "\n",
    "text_retallat = text.strip()\n",
    "print(f\"Text retallat: '{text_retallat}'\")"
   ]
  },
  {
   "cell_type": "markdown",
   "metadata": {},
   "source": [
    "## Exercici 3\n",
    "\n",
    "Crea un menú tal que la sortida sigui així:\n",
    "```text\n",
    "        ********Menú Principal********\n",
    "        1.                Veure perfil                 \n",
    "        2.         Canviar contrasenya         \n",
    "        3.                      Sortir\n",
    "```"
   ]
  },
  {
   "cell_type": "code",
   "execution_count": 63,
   "metadata": {},
   "outputs": [
    {
     "name": "stdout",
     "output_type": "stream",
     "text": [
      "********Menú Principal********\n",
      "1.                Veure Perfil\n",
      "2.         Canviar contrasenya\n",
      "3.                      Sortir\n"
     ]
    }
   ],
   "source": [
    "print (f\"{\"Menú Principal\".center(30, '*')}\")\n",
    "print (f\"1.{\"Veure Perfil\".rjust(28)}\")\n",
    "print (f\"2.{\"Canviar contrasenya\".rjust(28)}\")\n",
    "print (f\"3.{\"Sortir\".rjust(28)}\")"
   ]
  }
 ],
 "metadata": {
  "kernelspec": {
   "display_name": "Python 3",
   "language": "python",
   "name": "python3"
  },
  "language_info": {
   "codemirror_mode": {
    "name": "ipython",
    "version": 3
   },
   "file_extension": ".py",
   "mimetype": "text/x-python",
   "name": "python",
   "nbconvert_exporter": "python",
   "pygments_lexer": "ipython3",
   "version": "3.12.3"
  },
  "orig_nbformat": 4
 },
 "nbformat": 4,
 "nbformat_minor": 2
}
